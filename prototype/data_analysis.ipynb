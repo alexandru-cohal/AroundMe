{
 "cells": [
  {
   "cell_type": "code",
   "execution_count": 3,
   "id": "53d4a3ea-54a6-46a1-8cd9-addd2f4a02f3",
   "metadata": {},
   "outputs": [
    {
     "data": {
      "text/plain": [
       "True"
      ]
     },
     "execution_count": 3,
     "metadata": {},
     "output_type": "execute_result"
    }
   ],
   "source": [
    "from dotenv import load_dotenv\n",
    "load_dotenv(\".env\")"
   ]
  },
  {
   "cell_type": "code",
   "execution_count": 10,
   "id": "51caeea7-80f0-4d85-a043-33db514c77cc",
   "metadata": {},
   "outputs": [],
   "source": [
    "import os\n",
    "import requests"
   ]
  },
  {
   "cell_type": "markdown",
   "id": "080118e9-ec33-48fa-bf47-e7aec3e4dd1c",
   "metadata": {},
   "source": [
    "# Get the weather forecast for the next 5 days (every 3 hours) using the OpenWeatherMap API"
   ]
  },
  {
   "cell_type": "code",
   "execution_count": 7,
   "id": "3699d8a5-3d0f-414f-b844-bbbbdf47fe6e",
   "metadata": {},
   "outputs": [],
   "source": [
    "LOCATION = \"Barcelona\"\n",
    "REQUEST_URL = (f\"http://api.openweathermap.org/data/2.5/forecast?\"\n",
    "               f\"q={LOCATION}&\"\n",
    "               f\"units=metric&\"\n",
    "               f\"appid={os.getenv('OPENWEATHERMAP_API_KEY')}\")"
   ]
  },
  {
   "cell_type": "code",
   "execution_count": 8,
   "id": "6e23f16d-90f5-4390-be2d-c015042ba61b",
   "metadata": {},
   "outputs": [],
   "source": [
    "def get_weather_forecast():\n",
    "    \"\"\" Function for getting the weather forecast for the next 5 days for every 3 hours in a list \"\"\"\n",
    "    forecast = []\n",
    "    response = requests.get(REQUEST_URL)\n",
    "    response_raw = response.json()\n",
    "\n",
    "    if response_raw[\"cod\"] == \"200\":\n",
    "        forecast = response_raw[\"list\"]\n",
    "\n",
    "    return forecast"
   ]
  },
  {
   "cell_type": "code",
   "execution_count": 12,
   "id": "a39c6c8d-2471-478d-9912-a37f164ea89b",
   "metadata": {},
   "outputs": [
    {
     "name": "stdout",
     "output_type": "stream",
     "text": [
      "Number of elements in the forecast list: 40\n",
      "First forecast element: {'dt': 1752602400, 'main': {'temp': 29.39, 'feels_like': 32.42, 'temp_min': 29.05, 'temp_max': 29.39, 'pressure': 1018, 'sea_level': 1018, 'grnd_level': 1010, 'humidity': 64, 'temp_kf': 0.34}, 'weather': [{'id': 801, 'main': 'Clouds', 'description': 'few clouds', 'icon': '02d'}], 'clouds': {'all': 14}, 'wind': {'speed': 4.14, 'deg': 178, 'gust': 4.46}, 'visibility': 10000, 'pop': 0, 'sys': {'pod': 'd'}, 'dt_txt': '2025-07-15 18:00:00'}\n"
     ]
    }
   ],
   "source": [
    "forecast = get_weather_forecast()\n",
    "print(f\"Number of elements in the forecast list: {len(forecast)}\")\n",
    "print(f\"First forecast element: {forecast[0]}\")"
   ]
  },
  {
   "cell_type": "code",
   "execution_count": null,
   "id": "dc259608-71bd-45fc-aeb5-680907873a59",
   "metadata": {},
   "outputs": [],
   "source": []
  }
 ],
 "metadata": {
  "kernelspec": {
   "display_name": "Python 3 (ipykernel)",
   "language": "python",
   "name": "python3"
  },
  "language_info": {
   "codemirror_mode": {
    "name": "ipython",
    "version": 3
   },
   "file_extension": ".py",
   "mimetype": "text/x-python",
   "name": "python",
   "nbconvert_exporter": "python",
   "pygments_lexer": "ipython3",
   "version": "3.13.0"
  }
 },
 "nbformat": 4,
 "nbformat_minor": 5
}
