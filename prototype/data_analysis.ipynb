{
 "cells": [
  {
   "cell_type": "code",
   "execution_count": 1,
   "id": "53d4a3ea-54a6-46a1-8cd9-addd2f4a02f3",
   "metadata": {},
   "outputs": [
    {
     "data": {
      "text/plain": [
       "True"
      ]
     },
     "execution_count": 1,
     "metadata": {},
     "output_type": "execute_result"
    }
   ],
   "source": [
    "from dotenv import load_dotenv\n",
    "load_dotenv(\".env\")"
   ]
  },
  {
   "cell_type": "code",
   "execution_count": 2,
   "id": "51caeea7-80f0-4d85-a043-33db514c77cc",
   "metadata": {},
   "outputs": [],
   "source": [
    "import os\n",
    "import requests\n",
    "from datetime import datetime"
   ]
  },
  {
   "cell_type": "markdown",
   "id": "080118e9-ec33-48fa-bf47-e7aec3e4dd1c",
   "metadata": {},
   "source": [
    "# Get the weather forecast for the next 5 days (every 3 hours) using the OpenWeatherMap API"
   ]
  },
  {
   "cell_type": "code",
   "execution_count": 19,
   "id": "3699d8a5-3d0f-414f-b844-bbbbdf47fe6e",
   "metadata": {},
   "outputs": [],
   "source": [
    "LOCATION = \"Barcelona\"\n",
    "REQUEST_URL = (f\"http://api.openweathermap.org/data/2.5/forecast?\"\n",
    "               f\"q={LOCATION}&\"\n",
    "               f\"units=metric&\"\n",
    "               f\"appid={os.getenv('OPENWEATHERMAP_API_KEY')}\")"
   ]
  },
  {
   "cell_type": "code",
   "execution_count": 20,
   "id": "6e23f16d-90f5-4390-be2d-c015042ba61b",
   "metadata": {},
   "outputs": [],
   "source": [
    "def get_weather_forecast():\n",
    "    \"\"\" Function for getting the weather forecast for the next 5 days for every 3 hours in a list \"\"\"\n",
    "    forecast = []\n",
    "    response = requests.get(REQUEST_URL)\n",
    "    response_raw = response.json()\n",
    "\n",
    "    if response_raw[\"cod\"] == \"200\":\n",
    "        forecast = response_raw[\"list\"]\n",
    "\n",
    "    return forecast"
   ]
  },
  {
   "cell_type": "code",
   "execution_count": 36,
   "id": "a39c6c8d-2471-478d-9912-a37f164ea89b",
   "metadata": {},
   "outputs": [
    {
     "name": "stdout",
     "output_type": "stream",
     "text": [
      "Number of elements in the forecast list: 40 \n",
      "\n",
      "1st element: {'dt': 1753455600, 'main': {'temp': 27.41, 'feels_like': 27.82, 'temp_min': 26.08, 'temp_max': 27.41, 'pressure': 1015, 'sea_level': 1015, 'grnd_level': 1008, 'humidity': 50, 'temp_kf': 1.33}, 'weather': [{'id': 802, 'main': 'Clouds', 'description': 'scattered clouds', 'icon': '03d'}], 'clouds': {'all': 40}, 'wind': {'speed': 5.28, 'deg': 168, 'gust': 5.08}, 'visibility': 10000, 'pop': 0, 'sys': {'pod': 'd'}, 'dt_txt': '2025-07-25 15:00:00'} \n",
      "\n",
      "2nd element: {'dt': 1753466400, 'main': {'temp': 26.69, 'feels_like': 27.19, 'temp_min': 25.26, 'temp_max': 26.69, 'pressure': 1015, 'sea_level': 1015, 'grnd_level': 1008, 'humidity': 51, 'temp_kf': 1.43}, 'weather': [{'id': 802, 'main': 'Clouds', 'description': 'scattered clouds', 'icon': '03d'}], 'clouds': {'all': 30}, 'wind': {'speed': 5.35, 'deg': 202, 'gust': 5.06}, 'visibility': 10000, 'pop': 0, 'sys': {'pod': 'd'}, 'dt_txt': '2025-07-25 18:00:00'} \n",
      "\n",
      "3rd element: {'dt': 1753477200, 'main': {'temp': 24.27, 'feels_like': 24.24, 'temp_min': 22.7, 'temp_max': 24.27, 'pressure': 1016, 'sea_level': 1016, 'grnd_level': 1009, 'humidity': 57, 'temp_kf': 1.57}, 'weather': [{'id': 500, 'main': 'Rain', 'description': 'light rain', 'icon': '10n'}], 'clouds': {'all': 68}, 'wind': {'speed': 3, 'deg': 204, 'gust': 3.6}, 'visibility': 10000, 'pop': 0.4, 'rain': {'3h': 0.17}, 'sys': {'pod': 'n'}, 'dt_txt': '2025-07-25 21:00:00'} \n",
      "\n",
      "4th element: {'dt': 1753488000, 'main': {'temp': 21.18, 'feels_like': 21.23, 'temp_min': 21.18, 'temp_max': 21.18, 'pressure': 1016, 'sea_level': 1016, 'grnd_level': 1009, 'humidity': 72, 'temp_kf': 0}, 'weather': [{'id': 501, 'main': 'Rain', 'description': 'moderate rain', 'icon': '10n'}], 'clouds': {'all': 53}, 'wind': {'speed': 4.5, 'deg': 199, 'gust': 6.43}, 'visibility': 10000, 'pop': 1, 'rain': {'3h': 3.58}, 'sys': {'pod': 'n'}, 'dt_txt': '2025-07-26 00:00:00'} \n",
      "\n"
     ]
    }
   ],
   "source": [
    "forecast_items = get_weather_forecast()\n",
    "print(f\"Number of elements in the forecast list: {len(forecast)} \\n\")\n",
    "print(f\"1st element: {forecast_items[0]} \\n\")\n",
    "print(f\"2nd element: {forecast_items[1]} \\n\")\n",
    "print(f\"3rd element: {forecast_items[2]} \\n\")\n",
    "print(f\"4th element: {forecast_items[3]} \\n\")"
   ]
  },
  {
   "cell_type": "markdown",
   "id": "05b7e9d7-f08f-44b2-a2d8-233d55c93517",
   "metadata": {},
   "source": [
    "# Split the forecast elements by time into \"Day\" and \"Night\" categories for today, tomorrow and day after tomorrow"
   ]
  },
  {
   "cell_type": "code",
   "execution_count": 37,
   "id": "7e2fd502-49f6-42d1-a7e1-2ad49ab017fb",
   "metadata": {},
   "outputs": [],
   "source": [
    "## 00:00, 03:00, 06:00, 09:00, 12:00, 15:00, 18:00, 21:00\n",
    "## N      N      N      D      D      D      D      N\n",
    "## Day between 09:00 and 18:00, Night between 21:00 and 00:00\n",
    "## Today's day forecast: from the current moment until 18:00 (including)\n",
    "## Today's night forecast: from 21:00 until 06:00 (including)\n",
    "## forecast_groups = a list of lists containing indices of elements from forecast_items. \n",
    "##      The lists within this list represent: today day, today night, tomorrow day, tomorrow night and day after tomorrow day, day after tomorrow night."
   ]
  },
  {
   "cell_type": "code",
   "execution_count": 38,
   "id": "1870d399-1cf1-4251-94fe-06c6257704b0",
   "metadata": {},
   "outputs": [
    {
     "data": {
      "text/plain": [
       "[[0, 1],\n",
       " [2, 3, 4, 5],\n",
       " [6, 7, 8, 9],\n",
       " [10, 11, 12, 13],\n",
       " [14, 15, 16, 17],\n",
       " [18, 19, 20, 21]]"
      ]
     },
     "execution_count": 38,
     "metadata": {},
     "output_type": "execute_result"
    }
   ],
   "source": [
    "NUM_FORECAST_DAYS = 3\n",
    "NUM_FORECAST_GROUPS_PER_DAY = 2\n",
    "\n",
    "def split_forecast_items(forecast_items):\n",
    "    forecast_groups = [[]]\n",
    "    \n",
    "    for idx_forecast, item_forecast in enumerate(forecast_items):\n",
    "        time_forecast = datetime.strptime(item_forecast[\"dt_txt\"], \"%Y-%m-%d %H:%M:%S\")\n",
    "        if time_forecast.hour in [9, 21]:\n",
    "            if len(forecast_groups) == 6:\n",
    "                break\n",
    "            forecast_groups.append([])\n",
    "        forecast_groups[-1].append(idx_forecast)\n",
    "    \n",
    "    return forecast_groups\n",
    "\n",
    "forecast_groups = split_forecast_items(forecast_items)\n",
    "forecast_groups"
   ]
  },
  {
   "cell_type": "code",
   "execution_count": null,
   "id": "4448bfb2-0e11-40de-995d-d1c275d9b25a",
   "metadata": {},
   "outputs": [],
   "source": []
  }
 ],
 "metadata": {
  "kernelspec": {
   "display_name": "Python 3 (ipykernel)",
   "language": "python",
   "name": "python3"
  },
  "language_info": {
   "codemirror_mode": {
    "name": "ipython",
    "version": 3
   },
   "file_extension": ".py",
   "mimetype": "text/x-python",
   "name": "python",
   "nbconvert_exporter": "python",
   "pygments_lexer": "ipython3",
   "version": "3.13.3"
  }
 },
 "nbformat": 4,
 "nbformat_minor": 5
}
